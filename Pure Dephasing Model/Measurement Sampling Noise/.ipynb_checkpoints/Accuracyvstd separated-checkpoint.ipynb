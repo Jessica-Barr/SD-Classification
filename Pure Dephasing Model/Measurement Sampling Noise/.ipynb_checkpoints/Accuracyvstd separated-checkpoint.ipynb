{
 "cells": [
  {
   "cell_type": "code",
   "execution_count": null,
   "id": "67d788e2",
   "metadata": {},
   "outputs": [],
   "source": [
    "import numpy as np\n",
    "import matplotlib.pyplot as plt\n",
    "import tensorflow as tf"
   ]
  },
  {
   "cell_type": "code",
   "execution_count": null,
   "id": "9f8be2db",
   "metadata": {},
   "outputs": [],
   "source": [
    "#loading the data with $eta = 0.25$, $omega_c = 0.5$ with $s \\in [0, 0.5] if the spectral density is sub-Ohmic or \n",
    "#$s \\in [1.5, 4]$ is the spectral density is super-Ohmic\n",
    "Xtrainseparated = np.loadtxt('../Data/Xtrainx_fixedηandω_separated.csv', delimiter=',') #load data for sigmax\n",
    "Ytrainseparated = np.loadtxt('../Data/Ytrain_fixedηandω_separated.csv', delimiter=',') #load labels"
   ]
  },
  {
   "cell_type": "code",
   "execution_count": null,
   "id": "7d22e895",
   "metadata": {},
   "outputs": [],
   "source": [
    "#function to take X and Y and return a training, test and validation set containing the Fourier coefficients, along\n",
    "#with the corresponding labels. The last 3 columns of Y contain the values of $'\\eta'$, $\\omega_c$ and $s$ so we \n",
    "#only use the first three columns. Likewise, at t=0 all of the signals are equal, so we omit the first timestep.\n",
    "def fouriertrainvaltest(X, Y):\n",
    "    \n",
    "    #Generating a training set with 4800 trajectories, and a validation and test set each with 2400 trajectories.\n",
    "    Xtrain = X[0:4800, 1:401]\n",
    "    Xval = X[4800:7200, 1:401]\n",
    "    Xtest = X[7200:9600, 1:401]\n",
    "\n",
    "    Ytrain = Y[0:4800, 0:3]\n",
    "    Yval = Y[4800:7200, 0:3]\n",
    "    Ytest = Y[7200:9600, 0:3]\n",
    "    \n",
    "    #calculating the Fourier coefficients\n",
    "    XtrainF = np.fft.fft(Xtrain)\n",
    "    XvalF = np.fft.fft(Xval)\n",
    "    XtestF = np.fft.fft(Xtest)\n",
    "    \n",
    "    #Splitting the coefficients up into their real and imaginary components\n",
    "    xtrain = np.zeros((XtrainF.shape[0], 2*XtrainF.shape[1]))\n",
    "    xval = np.zeros((XvalF.shape[0], 2*XvalF.shape[1]))\n",
    "    xtest = np.zeros((XtestF.shape[0], 2*XtestF.shape[1]))\n",
    "    \n",
    "    for i in range(XtrainF.shape[0]):\n",
    "        for j in range(XtrainF.shape[1]):\n",
    "            xtrain[i, 2*j] = XtrainF[i,j].real\n",
    "            xtrain[i, 2*j + 1] = XtrainF[i,j].imag\n",
    "    \n",
    "    for i in range(XtestF.shape[0]):\n",
    "        for j in range(XtestF.shape[1]):\n",
    "            xval[i, 2*j] = XvalF[i,j].real\n",
    "            xval[i, 2*j + 1] = XvalF[i,j].imag\n",
    "        \n",
    "            xtest[i, 2*j] = XtestF[i,j].real\n",
    "            xtest[i, 2*j + 1] = XtestF[i,j].imag\n",
    "    \n",
    "    return(xtrain, xval, xtest, Ytrain, Yval, Ytest)"
   ]
  },
  {
   "cell_type": "code",
   "execution_count": null,
   "id": "efe869b0",
   "metadata": {},
   "outputs": [],
   "source": [
    "#an array to store the training accuracy at each standard deviation\n",
    "trainingaccuracyseparated=np.zeros(10)\n",
    "\n",
    "#an array to store the test accuracy at each standard deviation\n",
    "testaccuracyseparated = np.zeros(10)"
   ]
  },
  {
   "cell_type": "code",
   "execution_count": null,
   "id": "d1417863",
   "metadata": {},
   "outputs": [],
   "source": [
    "for i in range(10):\n",
    "    \n",
    "    #Adding artificial noise to the dataset\n",
    "    Xtrainseparatederrorarr = np.zeros_like(Xtrainseparated)\n",
    "    \n",
    "    for j in range(Xtrainseparated.shape[0]):\n",
    "        for k in range(Xtrainseparated.shape[1]):\n",
    "            Xtrainseparatederrorarr[j,k] = Xtrainseparated[j,k] + np.random.normal(0, 0.1+i*0.1)\n",
    "    \n",
    "    #Generating the training, validation and test set\n",
    "    xtrainseparatederror, xvalseparatederror, xtestseparatederror, ytrainseparatederror, yvalseparatederror, ytestseparatederror = fouriertrainvaltest(Xtrainseparatederrorarr, Ylabelsseparated)\n",
    "    \n",
    "    #Defining the model\n",
    "    modelseparated = tf.keras.Sequential()\n",
    "    modelseparated.add(tf.keras.layers.Dense(250, input_dim = (np.shape(xtrainseparatederror)[1]), activation='sigmoid'))\n",
    "    modelseparated.add(tf.keras.layers.Dense(80 , activation = 'sigmoid'))\n",
    "    modelseparated.add(tf.keras.layers.Dense(3, activation = 'softmax'))\n",
    "\n",
    "    #Setting the optimiser equal to the Adam optimiser with learning rate = 0.0001\n",
    "    opt = tf.keras.optimizers.Adam(learning_rate = 0.0001)\n",
    "\n",
    "    #Compliling the model\n",
    "    modelseparated.compile(optimizer=opt, loss = 'categorical_crossentropy', metrics = ['categorical_accuracy'])\n",
    "\n",
    "    #Training the model\n",
    "    historyseparated = modelseparated.fit(xtrainseparatederror, ytrainseparatederror, epochs = 1000, validation_data = (xvalseparatederror, yvalseparatederror), batch_size = np.shape(xtrainseparatederror)[0], verbose=0)\n",
    "    \n",
    "    #Finding the training accuracy\n",
    "    trainingaccuracyseparated[i] = modelseparated.evaluate(xtrainseparatederror, ytrainseparatederror)[1]\n",
    "    \n",
    "    #Finding the test accuracy\n",
    "    testaccuracyseparated[i] = modelseparated.evaluate(xtestseparatederror, ytestseparatederror)[1]"
   ]
  }
 ],
 "metadata": {
  "kernelspec": {
   "display_name": "Python 3 (ipykernel)",
   "language": "python",
   "name": "python3"
  },
  "language_info": {
   "codemirror_mode": {
    "name": "ipython",
    "version": 3
   },
   "file_extension": ".py",
   "mimetype": "text/x-python",
   "name": "python",
   "nbconvert_exporter": "python",
   "pygments_lexer": "ipython3",
   "version": "3.9.7"
  }
 },
 "nbformat": 4,
 "nbformat_minor": 5
}
