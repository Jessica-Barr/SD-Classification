{
 "cells": [
  {
   "cell_type": "code",
   "execution_count": 1,
   "id": "60cc11f7",
   "metadata": {},
   "outputs": [],
   "source": [
    "import numpy as np\n",
    "import matplotlib.pyplot as plt\n",
    "import tensorflow as tf"
   ]
  },
  {
   "cell_type": "code",
   "execution_count": 2,
   "id": "2bbdcc1c",
   "metadata": {},
   "outputs": [],
   "source": [
    "#loading the data with $eta = 0.25$, $omega_c = 0.5$ with $s \\in [0, 0.5] if the spectral density is sub-Ohmic or \n",
    "#$s \\in [1.5, 4]$ is the spectral density is super-Ohmic\n",
    "X = np.loadtxt('Data/Xtrainx_fixedηandω_separated.csv', delimiter=',')\n",
    "Y = np.loadtxt('Data/Ytrain_fixedηandω_separated.csv', delimiter=',')"
   ]
  },
  {
   "cell_type": "code",
   "execution_count": 3,
   "id": "c4eda2d0",
   "metadata": {},
   "outputs": [],
   "source": [
    "#function to take X and Y and return a training, test and validation set containing the Fourier coefficients, along\n",
    "#with the corresponding labels. The last 3 columns of Y contain the values of $'\\eta'$, $\\omega_c$ and $s$ so we \n",
    "#only use the first three columns. Likewise, at t=0 all of the signals are equal, so we omit the first timestep.\n",
    "def fouriertrainvaltest(X, Y):\n",
    "    \n",
    "    #Generating a training set with 4800 trajectories, and a validation and test set each with 2400 trajectories.\n",
    "    Xtrain = X[0:4800, 1:401]\n",
    "    Xval = X[4800:7200, 1:401]\n",
    "    Xtest = X[7200:9600, 1:401]\n",
    "\n",
    "    Ytrain = Y[0:4800, 0:3]\n",
    "    Yval = Y[4800:7200, 0:3]\n",
    "    Ytest = Y[7200:9600, 0:3]\n",
    "    \n",
    "    #calculating the Fourier coefficients\n",
    "    XtrainF = np.fft.fft(Xtrain)\n",
    "    XvalF = np.fft.fft(Xval)\n",
    "    XtestF = np.fft.fft(Xtest)\n",
    "    \n",
    "    #Splitting the coefficients up into their real and imaginary components\n",
    "    xtrain = np.zeros((XtrainF.shape[0], 2*XtrainF.shape[1]))\n",
    "    xval = np.zeros((XvalF.shape[0], 2*XvalF.shape[1]))\n",
    "    xtest = np.zeros((XtestF.shape[0], 2*XtestF.shape[1]))\n",
    "\n",
    "    for i in range(XtrainF.shape[0]):\n",
    "        for j in range(XtrainF.shape[1]):\n",
    "            xtrain[i, 2*j] = XtrainF[i,j].real\n",
    "            xtrain[i, 2*j + 1] = XtrainF[i,j].imag\n",
    "        \n",
    "        \n",
    "    for i in range(XtestF.shape[0]):\n",
    "        for j in range(XtestF.shape[1]):\n",
    "            xval[i, 2*j] = XvalF[i,j].real\n",
    "            xval[i, 2*j + 1] = XvalF[i,j].imag\n",
    "        \n",
    "            xtest[i, 2*j] = XtestF[i,j].real\n",
    "            xtest[i, 2*j + 1] = XtestF[i,j].imag\n",
    "    \n",
    "    return(xtrain, xval, xtest, Ytrain, Yval, Ytest)"
   ]
  },
  {
   "cell_type": "code",
   "execution_count": 4,
   "id": "7904516c",
   "metadata": {},
   "outputs": [],
   "source": [
    "#generate training, test and validation set\n",
    "xtrain, xval, xtest, Ytrain, Yval, Ytest = fouriertrainvaltest(X, Y)"
   ]
  },
  {
   "cell_type": "code",
   "execution_count": 5,
   "id": "01c60132",
   "metadata": {},
   "outputs": [
    {
     "name": "stderr",
     "output_type": "stream",
     "text": [
      "2023-08-19 15:38:29.724747: I tensorflow/core/common_runtime/pluggable_device/pluggable_device_factory.cc:305] Could not identify NUMA node of platform GPU ID 0, defaulting to 0. Your kernel may not have been built with NUMA support.\n",
      "2023-08-19 15:38:29.724846: I tensorflow/core/common_runtime/pluggable_device/pluggable_device_factory.cc:271] Created TensorFlow device (/job:localhost/replica:0/task:0/device:GPU:0 with 0 MB memory) -> physical PluggableDevice (device: 0, name: METAL, pci bus id: <undefined>)\n",
      "2023-08-19 15:38:29.896741: W tensorflow/core/platform/profile_utils/cpu_utils.cc:128] Failed to get CPU frequency: 0 Hz\n"
     ]
    },
    {
     "name": "stdout",
     "output_type": "stream",
     "text": [
      "Metal device set to: Apple M1\n"
     ]
    },
    {
     "name": "stderr",
     "output_type": "stream",
     "text": [
      "2023-08-19 15:38:30.125296: I tensorflow/core/grappler/optimizers/custom_graph_optimizer_registry.cc:113] Plugin optimizer for device_type GPU is enabled.\n",
      "2023-08-19 15:38:30.474572: I tensorflow/core/grappler/optimizers/custom_graph_optimizer_registry.cc:113] Plugin optimizer for device_type GPU is enabled.\n"
     ]
    }
   ],
   "source": [
    "#defining the model\n",
    "model = tf.keras.Sequential()\n",
    "model.add(tf.keras.layers.Dense(250, input_dim = (np.shape(xtrain)[1]), activation='sigmoid'))\n",
    "model.add(tf.keras.layers.Dense(80 , activation = 'sigmoid'))\n",
    "model.add(tf.keras.layers.Dense(3, activation = 'softmax'))\n",
    "\n",
    "#setting the optimiser equal to the Adam optimiser with learning rate = 0.0001\n",
    "opt = tf.keras.optimizers.Adam(learning_rate = 0.0001)\n",
    "\n",
    "#compliling the model\n",
    "model.compile(optimizer=opt, loss = 'categorical_crossentropy', metrics = ['categorical_accuracy'])\n",
    "\n",
    "#training the model\n",
    "history = model.fit(xtrain, Ytrain, epochs = 10000, validation_data = (xval, Yval), batch_size = np.shape(xtrain)[0], verbose=0)"
   ]
  },
  {
   "cell_type": "code",
   "execution_count": 6,
   "id": "4e762296",
   "metadata": {},
   "outputs": [
    {
     "name": "stdout",
     "output_type": "stream",
     "text": [
      "25/75 [=========>....................] - ETA: 0s - loss: 2.3682e-05 - categorical_accuracy: 1.0000"
     ]
    },
    {
     "name": "stderr",
     "output_type": "stream",
     "text": [
      "2023-08-19 15:43:32.785035: I tensorflow/core/grappler/optimizers/custom_graph_optimizer_registry.cc:113] Plugin optimizer for device_type GPU is enabled.\n"
     ]
    },
    {
     "name": "stdout",
     "output_type": "stream",
     "text": [
      "75/75 [==============================] - 1s 6ms/step - loss: 2.4036e-05 - categorical_accuracy: 1.0000\n"
     ]
    },
    {
     "data": {
      "text/plain": [
       "[2.40363588090986e-05, 1.0]"
      ]
     },
     "execution_count": 6,
     "metadata": {},
     "output_type": "execute_result"
    }
   ],
   "source": [
    "#Evaluating the test loss and test accuracy\n",
    "model.evaluate(xtest, Ytest)"
   ]
  },
  {
   "cell_type": "code",
   "execution_count": 7,
   "id": "9cae7b3e",
   "metadata": {},
   "outputs": [
    {
     "data": {
      "image/png": "[encoded data removed]",
      "text/plain": [
       "<Figure size 432x288 with 1 Axes>"
      ]
     },
     "metadata": {
      "needs_background": "light"
     },
     "output_type": "display_data"
    }
   ],
   "source": [
    "plt.plot(history.history['categorical_accuracy'], label = 'Training Accuracy')\n",
    "plt.plot(history.history['val_categorical_accuracy'], label='Validation Accuracy')\n",
    "plt.xlim(0, 40)\n",
    "plt.ylabel('Accuracy')\n",
    "plt.xlabel('Epochs')\n",
    "plt.legend()\n",
    "plt.show()"
   ]
  },
  {
   "cell_type": "code",
   "execution_count": 8,
   "id": "f713d6aa",
   "metadata": {},
   "outputs": [
    {
     "data": {
      "image/png": "[encoded data removed]",
      "text/plain": [
       "<Figure size 432x288 with 1 Axes>"
      ]
     },
     "metadata": {
      "needs_background": "light"
     },
     "output_type": "display_data"
    }
   ],
   "source": [
    "plt.plot(history.history['loss'], label = 'Training Loss')\n",
    "plt.plot(history.history['val_loss'], label='Validation Loss')\n",
    "plt.xlim(0, 500)\n",
    "plt.ylabel('Loss')\n",
    "plt.xlabel('Epochs')\n",
    "plt.legend()\n",
    "plt.show()"
   ]
  }
 ],
 "metadata": {
  "kernelspec": {
   "display_name": "Python 3 (ipykernel)",
   "language": "python",
   "name": "python3"
  },
  "language_info": {
   "codemirror_mode": {
    "name": "ipython",
    "version": 3
   },
   "file_extension": ".py",
   "mimetype": "text/x-python",
   "name": "python",
   "nbconvert_exporter": "python",
   "pygments_lexer": "ipython3",
   "version": "3.9.7"
  }
 },
 "nbformat": 4,
 "nbformat_minor": 5
}
