{
 "cells": [
  {
   "cell_type": "code",
   "execution_count": 1,
   "id": "1ee6baec",
   "metadata": {},
   "outputs": [],
   "source": [
    "import numpy as np\n",
    "import matplotlib.pyplot as plt"
   ]
  },
  {
   "cell_type": "code",
   "execution_count": 3,
   "id": "b8debff8",
   "metadata": {},
   "outputs": [],
   "source": [
    "#XtrainxAD, XtrainyAD and XtrainzAD contain the expectation values of the Pauli X, Y and Z matrices, respectively. Each \n",
    "#row of the arrays correspond to a trajectory. \n",
    "Xtrainx = np.loadtxt('Data/Xtrainx.csv', delimiter=',')\n",
    "Xtrainy = np.loadtxt('Data/Xtrainy.csv', delimiter=',')\n",
    "Xtrainz = np.loadtxt('Data/Xtrainz.csv', delimiter=',')\n",
    "Ytrain = np.loadtxt('Data/Ytrain.csv', delimiter=',')\n",
    "#y_trainAD is an array of shape n_training x 6. if the ith training example is sub_ohmic then element [i,0] = 1, if \n",
    "#it is Ohmic then [i,1] = 1, and if it is super-Ohmic then [i,2] = 1. #element [i,3] is set equal to $\\eta$ \n",
    "#while elements [i,4] and [i,5] are set equal to $\\omega_c$ and s, respectively."
   ]
  },
  {
   "cell_type": "code",
   "execution_count": 4,
   "id": "1b8c9ef6",
   "metadata": {},
   "outputs": [
    {
     "data": {
      "text/plain": [
       "(2100, 6)"
      ]
     },
     "execution_count": 4,
     "metadata": {},
     "output_type": "execute_result"
    }
   ],
   "source": [
    "Ytrain.shape"
   ]
  },
  {
   "cell_type": "code",
   "execution_count": 5,
   "id": "53929eca",
   "metadata": {},
   "outputs": [
    {
     "name": "stdout",
     "output_type": "stream",
     "text": [
      "maximum omegac is 1.9994985052742031\n",
      "minimum omegac is 0.10058466458077792\n",
      "maximum eta is 0.19979662505135012\n",
      "minimum eta is 0.010133384777692735\n"
     ]
    }
   ],
   "source": [
    "print('maximum omegac is', np.max(Ytrain[:,4]))\n",
    "print('minimum omegac is', np.min(Ytrain[:,4]))\n",
    "\n",
    "print('maximum eta is', np.max(Ytrain[:,3]))\n",
    "print('minimum eta is', np.min(Ytrain[:,3]))"
   ]
  },
  {
   "cell_type": "code",
   "execution_count": 6,
   "id": "50822bfa",
   "metadata": {},
   "outputs": [],
   "source": [
    "subindices = np.where(Ytrain[:,0]==1)\n",
    "ohmicindices = np.where(Ytrain[:,1]==1)\n",
    "superindices = np.where(Ytrain[:,2]==1)\n",
    "\n",
    "Ytrain_sub = Ytrain[subindices]\n",
    "Ytrain_ohmic = Ytrain[ohmicindices]\n",
    "Ytrain_super = Ytrain[superindices]"
   ]
  },
  {
   "cell_type": "code",
   "execution_count": 8,
   "id": "09bfdb48",
   "metadata": {},
   "outputs": [
    {
     "name": "stdout",
     "output_type": "stream",
     "text": [
      "Maximum sub-Ohmic s is 0.9897626296264119\n",
      "Minimum sub-Ohmic s is 0.3009550130263214\n",
      "Maximum Ohmic s is 1.0\n",
      "Minimum Ohmic s is 1.0\n",
      "Maximum super-Ohmic s is 1.9965894232352186\n",
      "Minimum super-Ohmic s is 1.002534789741909\n"
     ]
    }
   ],
   "source": [
    "print('Maximum sub-Ohmic s is', np.max(Ytrain_sub[:,5]))\n",
    "print('Minimum sub-Ohmic s is', np.min(Ytrain_sub[:,5]))\n",
    "\n",
    "print('Maximum Ohmic s is', np.max(Ytrain_ohmic[:,5]))\n",
    "print('Minimum Ohmic s is', np.min(Ytrain_ohmic[:,5]))\n",
    "\n",
    "print('Maximum super-Ohmic s is', np.max(Ytrain_super[:,5]))\n",
    "print('Minimum super-Ohmic s is', np.min(Ytrain_super[:,5]))"
   ]
  },
  {
   "cell_type": "code",
   "execution_count": null,
   "id": "4a2d7c25",
   "metadata": {},
   "outputs": [],
   "source": []
  }
 ],
 "metadata": {
  "kernelspec": {
   "display_name": "Python 3 (ipykernel)",
   "language": "python",
   "name": "python3"
  },
  "language_info": {
   "codemirror_mode": {
    "name": "ipython",
    "version": 3
   },
   "file_extension": ".py",
   "mimetype": "text/x-python",
   "name": "python",
   "nbconvert_exporter": "python",
   "pygments_lexer": "ipython3",
   "version": "3.9.7"
  }
 },
 "nbformat": 4,
 "nbformat_minor": 5
}
