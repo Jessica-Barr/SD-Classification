{
 "cells": [
  {
   "cell_type": "code",
   "execution_count": null,
   "id": "e5d8116f",
   "metadata": {},
   "outputs": [],
   "source": [
    "import numpy as np\n",
    "import matplotlib.pyplot as plt\n",
    "import tensorflow as tf"
   ]
  },
  {
   "cell_type": "code",
   "execution_count": null,
   "id": "414d0104",
   "metadata": {},
   "outputs": [],
   "source": [
    "X = np.loadtxt('Data/Xtrainx.csv', delimiter=',') #load data for sigmax \n",
    "Y = np.loadtxt('Data/Ytrain.csv', delimiter=',') #load labels"
   ]
  },
  {
   "cell_type": "code",
   "execution_count": null,
   "id": "9c9140bf",
   "metadata": {},
   "outputs": [],
   "source": [
    "#The original trajectories contain 20001 time points. at t=0 and t = 0.0005 all of the signals are equal to 1, so \n",
    "#we omit the first time step. \n",
    "x = X[:, 1:X.shape[1]]"
   ]
  },
  {
   "cell_type": "code",
   "execution_count": null,
   "id": "c5f889e2",
   "metadata": {},
   "outputs": [],
   "source": [
    "#function to take X and Y and return a training, test and validation set containing the fourier coefficients, along\n",
    "#with the corresponding labels. The last 3 columns of Y contain the values of $'\\eta'$, $\\omega_c$ and $s$ so we \n",
    "#only use the first three columns. Interval is the number of time points in the original trajectory between every \n",
    "#two time points that are included in the datasets. i.e. if interval = 2 we take every second time point.\n",
    "def fouriertrainvaltest(X, Y, interval):\n",
    "    \n",
    "    #generating a training set with 1500 trajectories, and a validation and test set each with 300 trajectories, \n",
    "    #taking one in every n = interval time points.\n",
    "    Xtrain = X[0:X.shape[0]-600, 0:X.shape[1]:interval]\n",
    "    Xval = X[X.shape[0]-600:X.shape[0]-300, 0:X.shape[1]:interval]\n",
    "    Xtest = X[X.shape[0]-300:X.shape[0], 0:X.shape[1]:interval]\n",
    "\n",
    "    Ytrain = Y[0:Y.shape[0]-600, 0:3]\n",
    "    Yval = Y[Y.shape[0]-600:Y.shape[0]-300, 0:3]\n",
    "    Ytest = Y[Y.shape[0]-300:Y.shape[0], 0:3]\n",
    "    \n",
    "    #calculating the fourier coefficients\n",
    "    XtrainF = np.fft.fft(Xtrain)\n",
    "    XvalF = np.fft.fft(Xval)\n",
    "    XtestF = np.fft.fft(Xtest)\n",
    "    \n",
    "    #Splitting the coefficients up into their real and imaginary components\n",
    "    xtrain = np.zeros((XtrainF.shape[0], 2*XtrainF.shape[1]))\n",
    "    xval = np.zeros((XvalF.shape[0], 2*XvalF.shape[1]))\n",
    "    xtest = np.zeros((XtestF.shape[0], 2*XtestF.shape[1]))\n",
    "\n",
    "    for i in range(XtrainF.shape[0]):\n",
    "        for j in range(XtrainF.shape[1]):\n",
    "            xtrain[i, 2*j] = XtrainF[i,j].real\n",
    "            xtrain[i, 2*j + 1] = XtrainF[i,j].imag\n",
    "        \n",
    "        \n",
    "    for i in range(XtestF.shape[0]):\n",
    "        for j in range(XtestF.shape[1]):\n",
    "            xval[i, 2*j] = XvalF[i,j].real\n",
    "            xval[i, 2*j + 1] = XvalF[i,j].imag\n",
    "        \n",
    "            xtest[i, 2*j] = XtestF[i,j].real\n",
    "            xtest[i, 2*j + 1] = XtestF[i,j].imag\n",
    "    \n",
    "    return(xtrain, xval, xtest, Ytrain, Yval, Ytest)"
   ]
  },
  {
   "cell_type": "code",
   "execution_count": null,
   "id": "fbbe995b",
   "metadata": {},
   "outputs": [],
   "source": [
    "#defining an array of intervals\n",
    "intervals = np.array([1, 2, 3, 4, 10, 15, 20, 25, 30, 35, 40, 45, 50, 60, 70, 90, 100, 200, 400])"
   ]
  },
  {
   "cell_type": "code",
   "execution_count": null,
   "id": "8fabbd04",
   "metadata": {},
   "outputs": [],
   "source": [
    "#an array to store the number of time points at each interval\n",
    "npoints = np.zeros(len(intervals))\n",
    "\n",
    "#an array to store the test accuracy at each interval. \n",
    "testaccuracy = np.zeros(len(intervals))\n",
    "\n",
    "#an array to store the test loss at each interval\n",
    "testloss = np.zeros(len(intervals))"
   ]
  },
  {
   "cell_type": "code",
   "execution_count": null,
   "id": "8f90899f",
   "metadata": {},
   "outputs": [],
   "source": [
    "for i in range(len(intervals)):\n",
    "    #Generating the training, test and validation set \n",
    "    xtrain, xval, xtest, Ytrain, Yval, Ytest = fouriertrainvaltest(x, Y, intervals[i])\n",
    "    \n",
    "    #finding the number of points in each trajectory\n",
    "    npoints[i] = xtrain.shape[1]\n",
    "    \n",
    "    #defining the model\n",
    "    model = tf.keras.Sequential()\n",
    "    model.add(tf.keras.layers.Dense(250, input_dim = (xtrain.shape[1]), activation='sigmoid'))\n",
    "    model.add(tf.keras.layers.Dense(80 , activation = 'sigmoid'))\n",
    "    model.add(tf.keras.layers.Dense(3, activation = 'softmax'))\n",
    "    \n",
    "    \n",
    "    #setting the optimiser equal to the Adam optimiser with learning rate = 0.0001\n",
    "    opt = tf.keras.optimizers.Adam(learning_rate = 0.0001)\n",
    "\n",
    "    #compiling the model\n",
    "    model.compile(optimizer=opt,\n",
    "                loss = 'categorical_crossentropy',\n",
    "                metrics = ['categorical_accuracy'])\n",
    "   \n",
    "    #training the model\n",
    "    history = model.fit(xtrain, Ytrain, epochs = 10000, validation_data = (xval, Yval), batch_size = xtrain.shape[0], verbose=0)\n",
    "    \n",
    "    #find the test accuracy\n",
    "    testaccuracy[i] = model.evaluate(xtest, Ytest)[1]\n",
    "    \n",
    "    #finding the loss evaluated on the test set\n",
    "    testloss[i] = model.evaluate(xtest, Ytest)[0]"
   ]
  }
 ],
 "metadata": {
  "kernelspec": {
   "display_name": "Python 3 (ipykernel)",
   "language": "python",
   "name": "python3"
  },
  "language_info": {
   "codemirror_mode": {
    "name": "ipython",
    "version": 3
   },
   "file_extension": ".py",
   "mimetype": "text/x-python",
   "name": "python",
   "nbconvert_exporter": "python",
   "pygments_lexer": "ipython3",
   "version": "3.9.7"
  }
 },
 "nbformat": 4,
 "nbformat_minor": 5
}
